{
 "metadata": {
  "language_info": {
   "codemirror_mode": {
    "name": "ipython",
    "version": 3
   },
   "file_extension": ".py",
   "mimetype": "text/x-python",
   "name": "python",
   "nbconvert_exporter": "python",
   "pygments_lexer": "ipython3",
   "version": "3.9.0-final"
  },
  "orig_nbformat": 2,
  "kernelspec": {
   "name": "python3",
   "display_name": "Python 3",
   "language": "python"
  }
 },
 "nbformat": 4,
 "nbformat_minor": 2,
 "cells": [
  {
   "cell_type": "code",
   "execution_count": 1,
   "metadata": {},
   "outputs": [],
   "source": [
    "with open(\"inputs\input1", 'r') as input_file:\n",
    "    file = input_file.read()"
   ]
  },
  {
   "cell_type": "code",
   "execution_count": 2,
   "metadata": {},
   "outputs": [],
   "source": [
    "input_as_int = [int(line) for line in file.splitlines()]"
   ]
  },
  {
   "cell_type": "code",
   "execution_count": 3,
   "metadata": {},
   "outputs": [
    {
     "output_type": "stream",
     "name": "stdout",
     "text": [
      "Final frequency :  582\n"
     ]
    }
   ],
   "source": [
    "frequency = 0\n",
    "for val in input_as_int:\n",
    "    frequency += val\n",
    "\n",
    "print(\"Final frequency : \", frequency)"
   ]
  },
  {
   "cell_type": "code",
   "execution_count": 4,
   "metadata": {},
   "outputs": [],
   "source": [
    "i = 0\n",
    "frequency = 0\n",
    "found = False\n",
    "reached = {}\n",
    "size = len(input_as_int)"
   ]
  },
  {
   "cell_type": "code",
   "execution_count": 5,
   "metadata": {},
   "outputs": [
    {
     "output_type": "stream",
     "name": "stdout",
     "text": [
      "First repeated frequency :  488\n"
     ]
    }
   ],
   "source": [
    "while not found:\n",
    "    frequency += input_as_int[i]\n",
    "    if frequency in reached:\n",
    "        reached_twice = frequency\n",
    "        found = True\n",
    "    reached[frequency] = True\n",
    "    i = (i + 1) % size\n",
    "\n",
    "print(\"First repeated frequency : \", reached_twice)"
   ]
  }
 ]
}