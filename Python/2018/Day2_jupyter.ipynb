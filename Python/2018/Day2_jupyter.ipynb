{
 "cells": [
  {
   "cell_type": "code",
   "execution_count": 1,
   "metadata": {},
   "outputs": [],
   "source": [
    "with open('inputs/input2') as input_file:\n",
    "    file = input_file.read()\n",
    "\n",
    "input_lines = file.splitlines()\n",
    "\n",
    "double_letter = 0\n",
    "triple_letter = 0"
   ]
  },
  {
   "cell_type": "code",
   "execution_count": 2,
   "metadata": {
    "scrolled": true
   },
   "outputs": [
    {
     "name": "stdout",
     "output_type": "stream",
     "text": [
      "5681\n"
     ]
    }
   ],
   "source": [
    "for line in input_lines:\n",
    "    char_done = []\n",
    "    has_double = False\n",
    "    has_triple = False\n",
    "    for char in line:\n",
    "        if not has_double and line.count(char) == 2:\n",
    "            double_letter += 1\n",
    "            has_double = True\n",
    "        if not has_triple and line.count(char) == 3:\n",
    "            triple_letter += 1\n",
    "            has_triple = True\n",
    "\n",
    "part1_answer = double_letter * triple_letter\n",
    "print(part1_answer)"
   ]
  },
  {
   "cell_type": "code",
   "execution_count": 3,
   "metadata": {},
   "outputs": [],
   "source": [
    "def match(box1,box2):\n",
    "    differ = 0\n",
    "    ans = \"\"\n",
    "    for i in range(len(box1)):\n",
    "        if(box1[i] != box2[i]):\n",
    "            differ += 1\n",
    "            if(differ > 1):\n",
    "                return False\n",
    "        else:\n",
    "            ans += box1[i]\n",
    "    if differ == 1:\n",
    "        return ans\n",
    "    else:\n",
    "        return False"
   ]
  },
  {
   "cell_type": "code",
   "execution_count": 4,
   "metadata": {},
   "outputs": [],
   "source": [
    "def find_match(boxes):\n",
    "    for i in range(len(boxes)):\n",
    "        for j in range(i+1, len(boxes)):\n",
    "            ans = match(boxes[i], boxes[j])\n",
    "            if ans != False:\n",
    "                return ans"
   ]
  },
  {
   "cell_type": "code",
   "execution_count": 5,
   "metadata": {},
   "outputs": [
    {
     "name": "stdout",
     "output_type": "stream",
     "text": [
      "uqyoeizfvmbistpkgnocjtwld\n"
     ]
    }
   ],
   "source": [
    "print(find_match(input_lines))"
   ]
  }
 ],
 "metadata": {
  "kernelspec": {
   "display_name": "Python 3",
   "language": "python",
   "name": "python3"
  },
  "language_info": {
   "codemirror_mode": {
    "name": "ipython",
    "version": 3
   },
   "file_extension": ".py",
   "mimetype": "text/x-python",
   "name": "python",
   "nbconvert_exporter": "python",
   "pygments_lexer": "ipython3",
   "version": "3.9.0"
  }
 },
 "nbformat": 4,
 "nbformat_minor": 4
}
