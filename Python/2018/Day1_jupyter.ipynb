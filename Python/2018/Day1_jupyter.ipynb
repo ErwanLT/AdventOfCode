{
 "cells": [
  {
   "cell_type": "code",
   "execution_count": 1,
   "metadata": {},
   "outputs": [],
   "source": [
    "with open(\"inputs/input1\", 'r') as input_file:\n",
    "    input = input_file.read()\n",
    "    \n",
    "input_as_int = [int(line) for line in input.splitlines()]"
   ]
  },
  {
   "cell_type": "code",
   "execution_count": 2,
   "metadata": {},
   "outputs": [
    {
     "name": "stdout",
     "output_type": "stream",
     "text": [
      "Final frequency :  582\n"
     ]
    }
   ],
   "source": [
    "frequency = 0\n",
    "for val in input_as_int:\n",
    "    frequency += val\n",
    "\n",
    "print(\"Final frequency : \", frequency)"
   ]
  },
  {
   "cell_type": "code",
   "execution_count": 3,
   "metadata": {},
   "outputs": [],
   "source": [
    "i = 0\n",
    "frequency = 0\n",
    "found = False\n",
    "reached = {}\n",
    "size = len(input_as_int)"
   ]
  },
  {
   "cell_type": "code",
   "execution_count": 4,
   "metadata": {},
   "outputs": [
    {
     "name": "stdout",
     "output_type": "stream",
     "text": [
      "First repeated frequency :  488\n"
     ]
    }
   ],
   "source": [
    "while not found:\n",
    "    frequency += input_as_int[i]\n",
    "    if frequency in reached:\n",
    "        reached_twice = frequency\n",
    "        found = True\n",
    "    reached[frequency] = True\n",
    "    i = (i + 1) % size\n",
    "\n",
    "print(\"First repeated frequency : \", reached_twice)"
   ]
  }
 ],
 "metadata": {
  "kernelspec": {
   "display_name": "Python 3",
   "language": "python",
   "name": "python3"
  },
  "language_info": {
   "codemirror_mode": {
    "name": "ipython",
    "version": 3
   },
   "file_extension": ".py",
   "mimetype": "text/x-python",
   "name": "python",
   "nbconvert_exporter": "python",
   "pygments_lexer": "ipython3",
   "version": "3.9.0"
  }
 },
 "nbformat": 4,
 "nbformat_minor": 4
}
