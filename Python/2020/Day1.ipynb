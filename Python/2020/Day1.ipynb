{
 "cells": [
  {
   "cell_type": "code",
   "execution_count": 1,
   "metadata": {},
   "outputs": [],
   "source": [
    "with open(\"inputs/input1\", 'r') as input_file:\n",
    "    input = input_file.read()\n",
    "    \n",
    "input_as_int = [int(line) for line in input.splitlines()]\n",
    "inputs = sorted(input_as_int)"
   ]
  },
  {
   "cell_type": "code",
   "execution_count": 2,
   "metadata": {},
   "outputs": [
    {
     "name": "stdout",
     "output_type": "stream",
     "text": [
      "Part 1 : Start\n",
      "858496\n",
      "Part 1 : End\n"
     ]
    }
   ],
   "source": [
    "print(\"Part 1 : Start\")\n",
    "for i1, input1 in enumerate(inputs):\n",
    "    for i2, input2 in enumerate(inputs[i1+1:]):\n",
    "        sum = input1 + input2\n",
    "        if sum == 2020:\n",
    "            mul = input1 * input2\n",
    "            print(mul)\n",
    "        elif sum > 2020:\n",
    "            break\n",
    "\n",
    "print(\"Part 1 : End\")"
   ]
  },
  {
   "cell_type": "code",
   "execution_count": 3,
   "metadata": {},
   "outputs": [
    {
     "name": "stdout",
     "output_type": "stream",
     "text": [
      "Part 2 : Start\n",
      "263819430\n",
      "Part 2 : End\n"
     ]
    }
   ],
   "source": [
    "print(\"Part 2 : Start\")\n",
    "for i1, input1 in enumerate(inputs):\n",
    "    for i2, input2 in enumerate(inputs[i1+1:]):\n",
    "        for input3 in inputs[i1+i2+2:]:\n",
    "            sum = input1 + input2 + input3\n",
    "            if sum == 2020:\n",
    "                mul = input1 * input2 * input3\n",
    "                print(mul)\n",
    "            elif sum > 2020:\n",
    "                break\n",
    "\n",
    "print(\"Part 2 : End\")"
   ]
  }
 ],
 "metadata": {
  "kernelspec": {
   "display_name": "Python 3",
   "language": "python",
   "name": "python3"
  },
  "language_info": {
   "codemirror_mode": {
    "name": "ipython",
    "version": 3
   },
   "file_extension": ".py",
   "mimetype": "text/x-python",
   "name": "python",
   "nbconvert_exporter": "python",
   "pygments_lexer": "ipython3",
   "version": "3.9.0"
  }
 },
 "nbformat": 4,
 "nbformat_minor": 4
}
